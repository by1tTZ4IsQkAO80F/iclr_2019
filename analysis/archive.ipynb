{
 "cells": [
  {
   "cell_type": "code",
   "execution_count": 2,
   "metadata": {},
   "outputs": [
    {
     "data": {
      "text/html": [
       "<div>\n",
       "<style scoped>\n",
       "    .dataframe tbody tr th:only-of-type {\n",
       "        vertical-align: middle;\n",
       "    }\n",
       "\n",
       "    .dataframe tbody tr th {\n",
       "        vertical-align: top;\n",
       "    }\n",
       "\n",
       "    .dataframe thead th {\n",
       "        text-align: right;\n",
       "    }\n",
       "</style>\n",
       "<table border=\"1\" class=\"dataframe\">\n",
       "  <thead>\n",
       "    <tr style=\"text-align: right;\">\n",
       "      <th></th>\n",
       "      <th>dataset</th>\n",
       "      <th>method</th>\n",
       "      <th>rank_r2</th>\n",
       "      <th>rank_size</th>\n",
       "    </tr>\n",
       "  </thead>\n",
       "  <tbody>\n",
       "    <tr>\n",
       "      <th>0</th>\n",
       "      <td>1027_ESL</td>\n",
       "      <td>ElasticNet</td>\n",
       "      <td>8.0</td>\n",
       "      <td>2.0</td>\n",
       "    </tr>\n",
       "    <tr>\n",
       "      <th>1</th>\n",
       "      <td>1027_ESL</td>\n",
       "      <td>Feat</td>\n",
       "      <td>2.0</td>\n",
       "      <td>3.0</td>\n",
       "    </tr>\n",
       "    <tr>\n",
       "      <th>2</th>\n",
       "      <td>1027_ESL</td>\n",
       "      <td>FeatCN</td>\n",
       "      <td>4.0</td>\n",
       "      <td>5.0</td>\n",
       "    </tr>\n",
       "    <tr>\n",
       "      <th>3</th>\n",
       "      <td>1027_ESL</td>\n",
       "      <td>FeatCorr</td>\n",
       "      <td>3.0</td>\n",
       "      <td>4.0</td>\n",
       "    </tr>\n",
       "    <tr>\n",
       "      <th>4</th>\n",
       "      <td>1027_ESL</td>\n",
       "      <td>KernelRidge</td>\n",
       "      <td>1.0</td>\n",
       "      <td>NaN</td>\n",
       "    </tr>\n",
       "  </tbody>\n",
       "</table>\n",
       "</div>"
      ],
      "text/plain": [
       "    dataset       method  rank_r2  rank_size\n",
       "0  1027_ESL   ElasticNet      8.0        2.0\n",
       "1  1027_ESL         Feat      2.0        3.0\n",
       "2  1027_ESL       FeatCN      4.0        5.0\n",
       "3  1027_ESL     FeatCorr      3.0        4.0\n",
       "4  1027_ESL  KernelRidge      1.0        NaN"
      ]
     },
     "execution_count": 2,
     "metadata": {},
     "output_type": "execute_result"
    }
   ],
   "source": [
    "import pandas as pd\n",
    "\n",
    "df = pd.read_csv('ranks.csv')\n",
    "df.head()"
   ]
  },
  {
   "cell_type": "code",
   "execution_count": 40,
   "metadata": {},
   "outputs": [
    {
     "name": "stderr",
     "output_type": "stream",
     "text": [
      "/home/bill/anaconda3/lib/python3.5/site-packages/seaborn/categorical.py:1468: FutureWarning: remove_na is deprecated and is a private function. Do not use.\n",
      "  stat_data = remove_na(group_data[hue_mask])\n"
     ]
    },
    {
     "data": {
      "image/png": "[encoded data removed]",
      "text/plain": [
       "<matplotlib.figure.Figure at 0x7f600c6e9c18>"
      ]
     },
     "metadata": {},
     "output_type": "display_data"
    }
   ],
   "source": [
    "import matplotlib.pyplot as plt\n",
    "import seaborn as sns\n",
    "sns.set_style('whitegrid')\n",
    "%matplotlib inline\n",
    "\n",
    "sns.barplot(data=df[df.method.isin(['LexNSGA2','RF'])],y='rank_r2',x='dataset',hue='method')\n",
    "plt.show()"
   ]
  },
  {
   "cell_type": "code",
   "execution_count": 3,
   "metadata": {
    "scrolled": false
   },
   "outputs": [],
   "source": [
    "datasets = []\n",
    "for g,dfg in df.groupby('dataset'):\n",
    "    if (dfg[dfg.method=='LexNSGA2']['rank_r2'].median() < dfg[dfg.method=='RF']['rank_r2'].median() and\n",
    "        dfg[dfg.method=='LexNSGA2']['rank_r2'].median() < dfg[dfg.method=='ElasticNet']['rank_r2'].median()):\n",
    "        print(g)\n",
    "        datasets.append(g)\n",
    "datainfo = pd.read_csv('Regression_datasets_pmlb.tsv',sep='\\t')\n",
    "for d in datasets:\n",
    "#     print(d)\n",
    "    di = datainfo[datainfo.name == '_'.join(d.split('_')[1:])]\n",
    "    print(di['name'].values,di['NumberOfInstances'].values,di['NumberOfFeatures'].values)"
   ]
  },
  {
   "cell_type": "code",
   "execution_count": 50,
   "metadata": {},
   "outputs": [
    {
     "data": {
      "text/plain": [
       "16681"
      ]
     },
     "execution_count": 50,
     "metadata": {},
     "output_type": "execute_result"
    }
   ],
   "source": [
    "np.random.randint(2**15-1)"
   ]
  },
  {
   "cell_type": "code",
   "execution_count": 75,
   "metadata": {
    "scrolled": false
   },
   "outputs": [
    {
     "name": "stdout",
     "output_type": "stream",
     "text": [
      "complexity,fitness,fitness_v,eqn\n",
      "1\t1825.754552\t1790.440368\t[x_1]\n",
      "2\t986.547630\t824.236442\t[x_3][x_1]\n",
      "3\t955.940666\t790.250743\t[x_2][x_1][x_3]\n",
      "4\t937.824253\t756.152977\t[x_1][x_2][x_0][x_3]\n",
      "5\t937.824253\t756.153133\t[x_1][x_2][x_0][x_1][x_3]\n",
      "6\t732.349209\t725.516450\t[x_0][relu(x_1)][x_1]\n",
      "7\t477.343916\t514.370762\t[tanh(x_1)][x_3]\n",
      "8\t434.340981\t477.437478\t[x_0][tanh(x_1)][x_3]\n",
      "9\t400.619536\t396.818240\t[x_0][tanh(x_1)][x_2][x_3]\n",
      "10\t395.935752\t393.476845\t[x_1][x_0][x_2][tanh(x_1)][x_3]\n",
      "12\t393.174417\t369.497455\t[tanh(x_0)][tanh(x_1)]\n",
      "13\t357.898089\t327.969133\t[tanh(x_0)][tanh(x_1)][x_2]\n",
      "14\t332.435066\t291.238088\t[tanh(x_1)][x_2][tanh(x_0)][x_3]\n",
      "15\t330.259762\t286.474480\t[tanh(x_1)][x_3][x_2][tanh(x_0)][x_1]\n",
      "16\t329.137984\t293.484161\t[x_1][x_0][x_2][tanh(x_1)][tanh(x_0)][x_3]\n",
      "17\t319.446620\t272.813163\t[tanh(x_1)][relu(x_3)][x_2][tanh(x_0)]\n",
      "18\t316.419919\t274.623401\t[tanh(x_1)][relu(x_3)][x_2][tanh(x_0)][x_3]\n",
      "19\t315.033011\t269.581290\t[x_1][relu(x_3)][x_2][tanh(x_1)][tanh(x_0)][x_3]\n",
      "20\t291.131655\t283.289836\t[tanh(x_1)][x_3][x_2][tanh(x_0)][(x_2*x_0)]\n",
      "21\t289.870899\t284.506573\t[tanh(x_1)][x_2][tanh(x_0)][(x_2*x_0)][x_1][x_3]\n",
      "22\t289.869132\t284.757406\t[tanh(x_1)][x_0][x_2][tanh(x_0)][(x_2*x_0)][x_1][x_3]\n",
      "23\t271.448314\t276.601986\t[tanh(x_1)][relu(x_3)][x_2][tanh(x_0)][(x_2*x_3)]\n",
      "24\t267.540728\t274.232683\t[tanh(x_1)][tanh(x_0)][(x_2*x_0)][x_2][relu(x_3)][x_1]\n",
      "25\t266.256855\t265.754847\t[tanh(x_1)][x_2][tanh(x_0)][(x_2*x_0)][x_1][relu(x_3)][x_3]\n",
      "26\t266.041317\t262.716136\t[tanh(x_1)][x_0][x_2][tanh(x_0)][(x_2*x_0)][x_1][relu(x_3)][x_3]\n",
      "27\t260.274342\t391.777379\t[tanh(x_1)][x_2][tanh(x_0)][(x_2*x_0)][relu(x_3)][relu(x_1)]\n",
      "28\t254.195282\t259.067404\t[tanh(x_1)][x_2][tanh(x_0)][(x_2*x_0)][x_1][relu(x_3)][(x_3^2)]\n",
      "29\t250.949132\t249.320939\t[tanh(x_1)][x_0][x_2][tanh(x_0)][(x_2*x_0)][x_1][relu(x_3)][(x_3^2)]\n",
      "31\t242.489600\t271.753302\t[tanh(x_1)][x_2][tanh(x_0)][(x_2*x_0)][relu(x_3)][(x_3^2)][relu(x_1)]\n",
      "32\t237.018360\t324.832620\t[tanh(x_1)][x_2][tanh(x_0)][(x_2*x_0)][x_3][relu(x_3)][(x_3^2)][relu(x_1)]\n",
      "35\t219.093043\t255.094896\t[tanh(x_1)][x_2][x_3][tanh(x_0)][((x_1*x_0)*(x_3-x_0))][x_1]\n",
      "36\t216.597189\t268.411934\t[tanh(x_1)][x_0][x_3][x_2][tanh(x_0)][((x_1*x_0)*(x_3-x_0))][x_1]\n",
      "37\t216.597187\t268.416867\t[tanh(x_1)][x_1][x_3][x_2][tanh(x_0)][((x_1*x_0)*(x_3-x_0))][x_1][x_0]\n",
      "38\t200.794472\t225.371575\t[tanh(x_1)][x_2][relu(x_3)][tanh(x_0)][((x_1*x_0)*(x_3-x_0))][x_1]\n",
      "39\t198.805996\t236.284695\t[tanh(x_1)][relu(x_3)][x_2][tanh(x_0)][((x_1*x_0)*(x_3-x_0))][x_0][x_1]\n",
      "40\t196.583277\t217.878015\t[tanh(x_1)][sqrt(|x_3|)][x_3][x_2][tanh(x_0)][((x_1*x_0)*(x_3-x_0))][x_0][x_1]\n",
      "42\t194.237860\t239.051015\t[tanh(x_1)][relu(x_3)][x_2][tanh(x_0)][((x_1*x_0)*(x_3-x_0))][(x_3^2)][x_1]\n",
      "43\t185.394831\t190.397580\t[tanh(x_1)][x_3][x_2][tanh(x_0)][((x_1*x_0)*(x_3-x_0))][(x_3^2)][x_1][relu(x_3)]\n",
      "46\t184.809355\t228.302263\t[tanh(x_1)][relu(x_3)][x_2][tanh(x_0)][((x_1*x_0)*(x_3-x_0))][(x_3^2)][x_1][relu(x_1)]\n",
      "48\t181.898212\t236.996836\t[tanh(x_1)][relu(x_3)][tanh(x_0)][((x_1*x_0)*(x_3-x_0))][((x_3^2)^2)][x_1][x_2]\n",
      "49\t178.042627\t188.680302\t[tanh(x_1)][x_3][x_2][tanh(x_0)][((x_1*x_0)*(x_3-x_0))][(x_3^2)][x_1][((x_3^2)^2)]\n",
      "52\t173.856083\t214.847453\t[tanh(x_1)][relu(x_3)][x_2][tanh(x_0)][((x_1*x_0)*(x_3-x_0))][((x_3^2)^2)][x_1][relu(x_1)]\n",
      "54\t168.239939\t215.859316\t[tanh(x_1)][relu(x_3)][x_2][tanh(x_0)][((x_1*x_0)*(x_3-x_0))][((x_3^2)^2)][x_1][(x_1*x_1)]\n",
      "\n"
     ]
    }
   ],
   "source": [
    "from feat import Feat\n",
    "from pmlb import fetch_data\n",
    "from sklearn.model_selection import train_test_split\n",
    "from sklearn.metrics import mean_squared_error as mse\n",
    "import numpy as np\n",
    "# dataset='192_vineyard'\n",
    "dataset='690_visualizing_galaxy'\n",
    "X, y = fetch_data(dataset,return_X_y=True)\n",
    "X_t,X_v, y_t, y_v = train_test_split(X,y,train_size=0.75,test_size=0.25,random_state=42)\n",
    "\n",
    "# est = Feat(backprop=True,\n",
    "#            random_state=1398743,\n",
    "#            pop_size=100,\n",
    "#            gens=100,\n",
    "#            ml = \"LinearRidgeRegression\",\n",
    "#            sel='lexicase',\n",
    "#            surv='nsga2',\n",
    "#            max_depth=10,\n",
    "#            max_dim=min([X.shape[1]*2,50]),\n",
    "#            )\n",
    "random_state=11314\n",
    "fest = Feat(obj=\"fitness,complexity\",                                                            \n",
    "               pop_size=500,                                                                        \n",
    "               gens=200,                                                                            \n",
    "               max_time=600,                                                                        \n",
    "               use_batch=True,                                                                      \n",
    "               batch_size=1000,                                                                     \n",
    "               ml = \"LinearRidgeRegression\",                                                        \n",
    "               sel='lexicase',                                                                      \n",
    "               surv='nsga2',                                                                        \n",
    "               max_depth=6,                                                                         \n",
    "               max_dim=min([X.shape[1]*2,50]),                                                      \n",
    "               random_state=random_state,                                                            \n",
    "               backprop=True,                                                                       \n",
    "               iters=10,                                                                            \n",
    "               n_threads=1,                                                                         \n",
    "               verbosity=2,                                                                         \n",
    "               logfile='feat_'+dataset+'.log',\n",
    "               print_pop=1) \n",
    "\n",
    "fest.fit(X_t,y_t)\n",
    "\n",
    "\n",
    "\n",
    "test_score['feat'] = mse(y_v,fest.predict(X_v))\n",
    "\n",
    "str_arc = fest.get_archive()\n",
    "\n",
    "print(fest.get_archive())"
   ]
  },
  {
   "cell_type": "code",
   "execution_count": 53,
   "metadata": {},
   "outputs": [],
   "source": [
    "from feat import Feat\n",
    "from pmlb import fetch_data\n",
    "from sklearn.model_selection import train_test_split\n",
    "from sklearn.metrics import mean_squared_error as mse\n",
    "from sklearn.ensemble import RandomForestRegressor\n",
    "\n",
    "X, y = fetch_data(dataset,return_X_y=True)\n",
    "X_t,X_v, y_t, y_v = train_test_split(X,y,train_size=0.75,test_size=0.25,random_state=42)\n",
    "\n",
    "rf = RandomForestRegressor(random_state=987039487)\n",
    "\n",
    "rf.fit(X_t,y_t)\n",
    "\n",
    "# test_score={}\n",
    "\n",
    "test_score['rf'] = mse(y_v,rf.predict(X_v))\n"
   ]
  },
  {
   "cell_type": "code",
   "execution_count": 54,
   "metadata": {},
   "outputs": [],
   "source": [
    "from feat import Feat\n",
    "from pmlb import fetch_data\n",
    "from sklearn.model_selection import train_test_split\n",
    "from sklearn.metrics import mean_squared_error as mse\n",
    "from sklearn.linear_model import ElasticNet\n",
    "\n",
    "X, y = fetch_data(dataset,return_X_y=True)\n",
    "X_t,X_v, y_t, y_v = train_test_split(X,y,train_size=0.75,test_size=0.25,random_state=42)\n",
    "\n",
    "linest = ElasticNet()\n",
    "\n",
    "linest.fit(X_t,y_t)\n",
    "\n",
    "# test_score={}\n",
    "\n",
    "test_score['elasticnet'] = mse(y_v,linest.predict(X_v))\n"
   ]
  },
  {
   "cell_type": "code",
   "execution_count": 60,
   "metadata": {},
   "outputs": [
    {
     "data": {
      "text/plain": [
       "{'feat': 254.0539790633308,\n",
       " 'rf': 384.1365432098763,\n",
       " 'elasticnet': 919.3515337699562}"
      ]
     },
     "execution_count": 60,
     "metadata": {},
     "output_type": "execute_result"
    }
   ],
   "source": [
    "test_score['feat'] = mse(y_v,fest.predict(X_v))\n",
    "test_score"
   ]
  },
  {
   "cell_type": "code",
   "execution_count": 163,
   "metadata": {
    "scrolled": false
   },
   "outputs": [
    {
     "name": "stdout",
     "output_type": "stream",
     "text": [
      "complexity [1, 2, 3, 4, 5, 6, 7, 8, 9, 10, 12, 13, 14, 15, 16, 17, 18, 19, 20, 21, 22, 23, 24, 25, 26, 27, 28, 29, 31, 32, 35, 36, 37, 38, 39, 40, 42, 43, 46, 48, 49, 52, 54]\n"
     ]
    },
    {
     "data": {
      "image/png": "[encoded data removed]",
      "text/plain": [
       "<Figure size 720x432 with 1 Axes>"
      ]
     },
     "metadata": {},
     "output_type": "display_data"
    }
   ],
   "source": [
    "import numpy as np\n",
    "import matplotlib\n",
    "import matplotlib.pyplot as plt\n",
    "import seaborn as sns\n",
    "matplotlib.rcParams['figure.figsize'] = (10, 6)\n",
    "%matplotlib inline \n",
    "sns.set_style('white')\n",
    "complexity = []\n",
    "fit_train = []\n",
    "fit_val = []\n",
    "fit_test = []\n",
    "eqn = []\n",
    "h = plt.figure(figsize=(10,6))\n",
    "\n",
    "\n",
    "for s in str_arc.split('\\n')[1:-1]:\n",
    "#     print(s.split(','))\n",
    "    line = s.split('\\t')\n",
    "    complexity.append(int(line[0]))\n",
    "    fit_train.append(float(line[1]))\n",
    "    fit_test.append(float(line[2]))\n",
    "    eqn.append(','.join(line[3:]))\n",
    "    eqn[-1].replace('sqrt','\\sqrt')\n",
    "#     print(s)\n",
    "plt.plot(fit_train,complexity,'--ro',label='Train',markersize=6)\n",
    "plt.plot(fit_test,complexity,'--bx',label='Validation')\n",
    "best = np.argmin(np.array(fit_test))\n",
    "plt.plot(fit_test[best],complexity[best],'sk',markersize=16,markerfacecolor='none',label='Model Selection')\n",
    "\n",
    "# test score lines\n",
    "y1 = -1\n",
    "y2 = 55\n",
    "plt.plot((test_score['feat'],test_score['feat']),(y1,y2),'--k',label='FEAT Test',alpha=0.5)\n",
    "plt.plot((test_score['rf'],test_score['rf']),(y1,y2),'-.xg',label='RF Test',alpha=0.5)\n",
    "plt.plot((test_score['elasticnet'],test_score['elasticnet']),(y1,y2),'-sm',label='ElasticNet Test',alpha=0.5)\n",
    "\n",
    "print('complexity',complexity)\n",
    "eqn[-1] = '0)]$\\n$'.join(eqn[-1].split('0)]'))\n",
    "# complexity[-1] = complexity[-1]-10 # adjust placement of last equation\n",
    "xoff = 70\n",
    "for e,t,c in zip(eqn,fit_test,complexity):\n",
    "    if c in [1,5,12,20,49]:\n",
    "        if c == 5: \n",
    "            t = t+150\n",
    "            c = c+1\n",
    "        elif c==1: t = t\n",
    "        elif c==54: t = t-xoff/2\n",
    "        if c == 54:\n",
    "            plt.text(t+xoff,c-1,'> overfitting',size=18)\n",
    "        else:\n",
    "            tax = plt.text(t+xoff,c-1,'$\\leftarrow'+e+'$',size=18)\n",
    "            tax.set_bbox(dict(facecolor='white', alpha=0.75, edgecolor='none'))\n",
    "\n",
    "l = plt.legend(prop={'size': 16},loc=[0.7,0.4])\n",
    "plt.xlabel('MSE',size=16)\n",
    "# plt.gca().set_ylim(10,200)\n",
    "plt.gca().set_xlim(100,right=2200)\n",
    "# plt.gca().set_yscale('log')\n",
    "# plt.gca().set_xscale('log')\n",
    "\n",
    "# plt.ylim(y1,y2)\n",
    "plt.gca().set_yticklabels('')\n",
    "plt.gca().set_xticklabels('')\n",
    "\n",
    "plt.ylabel('Complexity',size=18)\n",
    "h.tight_layout()\n",
    "h.savefig('../paper/figs/archive_example.pdf')\n",
    "# plt.xticklabels(size=12)\n",
    "plt.show()"
   ]
  },
  {
   "cell_type": "code",
   "execution_count": 138,
   "metadata": {},
   "outputs": [
    {
     "name": "stdout",
     "output_type": "stream",
     "text": [
      "$\\tanh(x_1)$ & 2953.8 \\\\\n",
      "$x_1$ & 1961.5 \\\\\n",
      "$(x_3^2)$ & 329.0 \\\\\n",
      "$\\tanh(x_0)$ & -318.5 \\\\\n",
      "$((x_1 \\cdot x_0) \\cdot (x_3-x_0))$ & 303.6 \\\\\n",
      "$((x_3^2)^2)$ & -288.7 \\\\\n",
      "$x_3$ & 203.3 \\\\\n",
      "$x_2$ & 64.8 \\\\\n"
     ]
    }
   ],
   "source": [
    "model = fest.get_model()\n",
    "for m in model.split('\\n')[1:-1]:\n",
    "    phi = m.split('\\t')[0].replace('tanh','\\\\tanh').replace('*',' \\\\cdot ')\n",
    "    beta = m.split('\\t')[1]\n",
    "    print('$'+phi+'$','&',round(float(beta),1),end=' \\\\\\\\\\n')"
   ]
  }
 ],
 "metadata": {
  "kernelspec": {
   "display_name": "Python 3",
   "language": "python",
   "name": "python3"
  },
  "language_info": {
   "codemirror_mode": {
    "name": "ipython",
    "version": 3
   },
   "file_extension": ".py",
   "mimetype": "text/x-python",
   "name": "python",
   "nbconvert_exporter": "python",
   "pygments_lexer": "ipython3",
   "version": "3.6.5"
  }
 },
 "nbformat": 4,
 "nbformat_minor": 2
}
