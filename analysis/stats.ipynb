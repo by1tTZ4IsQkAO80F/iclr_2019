{
 "cells": [
  {
   "cell_type": "code",
   "execution_count": 5,
   "metadata": {
    "scrolled": true
   },
   "outputs": [
    {
     "data": {
      "text/plain": [
       "                 dataset            method       rank_r2    \n",
       " 1027_ESL            :  8   ElasticNet :100   Min.   :1.00  \n",
       " 1028_SWD            :  8   Feat       :100   1st Qu.:2.75  \n",
       " 1029_LEV            :  8   FeatCN     :100   Median :4.50  \n",
       " 1030_ERA            :  8   FeatCorr   :100   Mean   :4.50  \n",
       " 1089_USCrime        :  8   KernelRidge:100   3rd Qu.:6.25  \n",
       " 1096_FacultySalaries:  8   MLP        :100   Max.   :8.00  \n",
       " 192_vineyard        :  8   RF         :100                 \n",
       " 195_auto_price      :  8   XGB        :100                 \n",
       " 197_cpu_act         :  8                                   \n",
       " 207_autoPrice       :  8                                   \n",
       " (Other)             :720                                   "
      ]
     },
     "metadata": {},
     "output_type": "display_data"
    }
   ],
   "source": [
    "setwd('/media/bill/Drive/projects/iclr_2019/analysis')\n",
    "\n",
    "df <- read.csv(\"r2_ranks.csv\",header=TRUE,sep=',')\n",
    "# df <- subset(df,!is.na(rank))\n",
    "# df <- subset(df,dataset!='505_tecator')\n",
    "summary(df,maxsum=11)\n"
   ]
  },
  {
   "cell_type": "code",
   "execution_count": 2,
   "metadata": {},
   "outputs": [
    {
     "name": "stdout",
     "output_type": "stream",
     "text": [
      "% latex table generated in R 3.5.1 by xtable 1.8-3 package\n",
      "% Fri Feb 22 00:41:16 2019\n",
      "\\begin{table}[ht]\n",
      "\\centering\n",
      "\\begin{tabular}{rlllllll}\n",
      "  \\hline\n",
      " & ElasticNet & Feat & FeatCN & FeatCorr & KernelRidge & MLP & RF \\\\ \n",
      "  \\hline\n",
      "Feat & 4.70e-14* &  &  &  &  &  &  \\\\ \n",
      "  FeatCN & 1.38e-12* & 5.34e-01 &  &  &  &  &  \\\\ \n",
      "  FeatCorr & 4.25e-13* & 1.00e+00 & 1.00e+00 &  &  &  &  \\\\ \n",
      "  KernelRidge & 1.16e-09* & 1.18e-04* & 4.37e-03* & 1.14e-03* &  &  &  \\\\ \n",
      "  MLP & 5.24e-09* & 3.80e-04* & 2.08e-02* & 1.28e-03* & 1.00e+00 &  &  \\\\ \n",
      "  RF & 1.08e-09* & 2.09e-07* & 2.19e-05* & 1.30e-06* & 1.00e+00 & 1.00e+00 &  \\\\ \n",
      "  XGB & 1.47e-13* & 1.00e+00 & 1.00e+00 & 1.00e+00 & 3.41e-04* & 1.60e-03* & 8.49e-13* \\\\ \n",
      "   \\hline\n",
      "\\end{tabular}\n",
      "\\caption{Bonferroni-adjusted $p$-values using a Wilcoxon signed rank test of $R^2$ scores for the methods across all benchmarks. *: $p$<0.05.} \n",
      "\\end{table}\n"
     ]
    },
    {
     "data": {
      "text/html": [
       "<table>\n",
       "<thead><tr><th></th><th scope=col>ElasticNet</th><th scope=col>Feat</th><th scope=col>FeatCN</th><th scope=col>FeatCorr</th><th scope=col>KernelRidge</th><th scope=col>MLP</th><th scope=col>RF</th></tr></thead>\n",
       "<tbody>\n",
       "\t<tr><th scope=row>Feat</th><td>4.70e-14*</td><td>NA       </td><td>NA       </td><td>NA       </td><td>NA       </td><td>NA       </td><td>NA       </td></tr>\n",
       "\t<tr><th scope=row>FeatCN</th><td>1.38e-12*</td><td>5.34e-01 </td><td>NA       </td><td>NA       </td><td>NA       </td><td>NA       </td><td>NA       </td></tr>\n",
       "\t<tr><th scope=row>FeatCorr</th><td>4.25e-13*</td><td>1.00e+00 </td><td>1.00e+00 </td><td>NA       </td><td>NA       </td><td>NA       </td><td>NA       </td></tr>\n",
       "\t<tr><th scope=row>KernelRidge</th><td>1.16e-09*</td><td>1.18e-04*</td><td>4.37e-03*</td><td>1.14e-03*</td><td>NA       </td><td>NA       </td><td>NA       </td></tr>\n",
       "\t<tr><th scope=row>MLP</th><td>5.24e-09*</td><td>3.80e-04*</td><td>2.08e-02*</td><td>1.28e-03*</td><td>1.00e+00 </td><td>NA       </td><td>NA       </td></tr>\n",
       "\t<tr><th scope=row>RF</th><td>1.08e-09*</td><td>2.09e-07*</td><td>2.19e-05*</td><td>1.30e-06*</td><td>1.00e+00 </td><td>1.00e+00 </td><td>NA       </td></tr>\n",
       "\t<tr><th scope=row>XGB</th><td>1.47e-13*</td><td>1.00e+00 </td><td>1.00e+00 </td><td>1.00e+00 </td><td>3.41e-04*</td><td>1.60e-03*</td><td>8.49e-13*</td></tr>\n",
       "</tbody>\n",
       "</table>\n"
      ],
      "text/latex": [
       "\\begin{tabular}{r|lllllll}\n",
       "  & ElasticNet & Feat & FeatCN & FeatCorr & KernelRidge & MLP & RF\\\\\n",
       "\\hline\n",
       "\tFeat & 4.70e-14* & NA        & NA        & NA        & NA        & NA        & NA       \\\\\n",
       "\tFeatCN & 1.38e-12* & 5.34e-01  & NA        & NA        & NA        & NA        & NA       \\\\\n",
       "\tFeatCorr & 4.25e-13* & 1.00e+00  & 1.00e+00  & NA        & NA        & NA        & NA       \\\\\n",
       "\tKernelRidge & 1.16e-09* & 1.18e-04* & 4.37e-03* & 1.14e-03* & NA        & NA        & NA       \\\\\n",
       "\tMLP & 5.24e-09* & 3.80e-04* & 2.08e-02* & 1.28e-03* & 1.00e+00  & NA        & NA       \\\\\n",
       "\tRF & 1.08e-09* & 2.09e-07* & 2.19e-05* & 1.30e-06* & 1.00e+00  & 1.00e+00  & NA       \\\\\n",
       "\tXGB & 1.47e-13* & 1.00e+00  & 1.00e+00  & 1.00e+00  & 3.41e-04* & 1.60e-03* & 8.49e-13*\\\\\n",
       "\\end{tabular}\n"
      ],
      "text/markdown": [
       "\n",
       "| <!--/--> | ElasticNet | Feat | FeatCN | FeatCorr | KernelRidge | MLP | RF | \n",
       "|---|---|---|---|---|---|---|\n",
       "| Feat | 4.70e-14* | NA        | NA        | NA        | NA        | NA        | NA        | \n",
       "| FeatCN | 1.38e-12* | 5.34e-01  | NA        | NA        | NA        | NA        | NA        | \n",
       "| FeatCorr | 4.25e-13* | 1.00e+00  | 1.00e+00  | NA        | NA        | NA        | NA        | \n",
       "| KernelRidge | 1.16e-09* | 1.18e-04* | 4.37e-03* | 1.14e-03* | NA        | NA        | NA        | \n",
       "| MLP | 5.24e-09* | 3.80e-04* | 2.08e-02* | 1.28e-03* | 1.00e+00  | NA        | NA        | \n",
       "| RF | 1.08e-09* | 2.09e-07* | 2.19e-05* | 1.30e-06* | 1.00e+00  | 1.00e+00  | NA        | \n",
       "| XGB | 1.47e-13* | 1.00e+00  | 1.00e+00  | 1.00e+00  | 3.41e-04* | 1.60e-03* | 8.49e-13* | \n",
       "\n",
       "\n"
      ],
      "text/plain": [
       "            ElasticNet Feat      FeatCN    FeatCorr  KernelRidge MLP      \n",
       "Feat        4.70e-14*  NA        NA        NA        NA          NA       \n",
       "FeatCN      1.38e-12*  5.34e-01  NA        NA        NA          NA       \n",
       "FeatCorr    4.25e-13*  1.00e+00  1.00e+00  NA        NA          NA       \n",
       "KernelRidge 1.16e-09*  1.18e-04* 4.37e-03* 1.14e-03* NA          NA       \n",
       "MLP         5.24e-09*  3.80e-04* 2.08e-02* 1.28e-03* 1.00e+00    NA       \n",
       "RF          1.08e-09*  2.09e-07* 2.19e-05* 1.30e-06* 1.00e+00    1.00e+00 \n",
       "XGB         1.47e-13*  1.00e+00  1.00e+00  1.00e+00  3.41e-04*   1.60e-03*\n",
       "            RF       \n",
       "Feat        NA       \n",
       "FeatCN      NA       \n",
       "FeatCorr    NA       \n",
       "KernelRidge NA       \n",
       "MLP         NA       \n",
       "RF          NA       \n",
       "XGB         8.49e-13*"
      ]
     },
     "metadata": {},
     "output_type": "display_data"
    }
   ],
   "source": [
    "r2_res <- pairwise.wilcox.test(df$rank_r2, df$method, p.adjust.method = 'bonferroni',\n",
    "                      paired = T)\n",
    "cap = paste0(\"Bonferroni-adjusted $p$-values using a Wilcoxon signed rank test of $R^2$ scores \",\n",
    "      \"for the methods across all benchmarks. *: $p$<0.05.\")\n",
    "library(xtable)\n",
    "r2_res$p.value.formatted = format(r2_res$p.value,scientific=T,digits=3)\n",
    "r2_res$p.value.formatted = ifelse(r2_res$p.value < 0.05, paste0(r2_res$p.value.formatted, \"*\"), \n",
    "                                  r2_res$p.value.formatted)\n",
    "ltx <- xtable(r2_res$p.value.formatted, caption=cap, display=c('s',rep('s',7)),\n",
    "              caption.placement=\"top\")\n",
    "\n",
    "\n",
    "print(ltx)\n",
    "ltx"
   ]
  },
  {
   "cell_type": "code",
   "execution_count": 3,
   "metadata": {
    "scrolled": true
   },
   "outputs": [
    {
     "data": {
      "text/plain": [
       "                         dataset          method      rank_size    \n",
       " 1027_ESL                    : 7   ElasticNet:100   Min.   :1.000  \n",
       " 1028_SWD                    : 7   Feat      :100   1st Qu.:3.000  \n",
       " 1029_LEV                    : 7   FeatCN    :100   Median :5.000  \n",
       " 1030_ERA                    : 7   FeatCorr  :100   Mean   :4.898  \n",
       " 1089_USCrime                : 7   MLP       :100   3rd Qu.:7.000  \n",
       " 1096_FacultySalaries        : 7   RF        :100   Max.   :8.000  \n",
       " 192_vineyard                : 7   XGB       :100                  \n",
       " 195_auto_price              : 7                                   \n",
       " 197_cpu_act                 : 7                                   \n",
       " 207_autoPrice               : 7                                   \n",
       " 210_cloud                   : 7                                   \n",
       " 225_puma8NH                 : 7                                   \n",
       " 227_cpu_small               : 7                                   \n",
       " 228_elusage                 : 7                                   \n",
       " 229_pwLinear                : 7                                   \n",
       " 230_machine_cpu             : 7                                   \n",
       " 294_satellite_image         : 7                                   \n",
       " 485_analcatdata_vehicle     : 7                                   \n",
       " 503_wind                    : 7                                   \n",
       " 505_tecator                 : 7                                   \n",
       " 519_vinnie                  : 7                                   \n",
       " 522_pm10                    : 7                                   \n",
       " 523_analcatdata_neavote     : 7                                   \n",
       " 527_analcatdata_election2000: 7                                   \n",
       " 529_pollen                  : 7                                   \n",
       " 542_pollution               : 7                                   \n",
       " 547_no2                     : 7                                   \n",
       " 556_analcatdata_apnea2      : 7                                   \n",
       " 557_analcatdata_apnea1      : 7                                   \n",
       " 560_bodyfat                 : 7                                   \n",
       " 561_cpu                     : 7                                   \n",
       " 562_cpu_small               : 7                                   \n",
       " 573_cpu_act                 : 7                                   \n",
       " 579_fri_c0_250_5            : 7                                   \n",
       " 581_fri_c3_500_25           : 7                                   \n",
       " 582_fri_c1_500_25           : 7                                   \n",
       " 584_fri_c4_500_25           : 7                                   \n",
       " 586_fri_c3_1000_25          : 7                                   \n",
       " 589_fri_c2_1000_25          : 7                                   \n",
       " 591_fri_c1_100_10           : 7                                   \n",
       " 592_fri_c4_1000_25          : 7                                   \n",
       " 593_fri_c1_1000_10          : 7                                   \n",
       " 594_fri_c2_100_5            : 7                                   \n",
       " 595_fri_c0_1000_10          : 7                                   \n",
       " 596_fri_c2_250_5            : 7                                   \n",
       " 597_fri_c2_500_5            : 7                                   \n",
       " 599_fri_c2_1000_5           : 7                                   \n",
       " 601_fri_c1_250_5            : 7                                   \n",
       " 602_fri_c3_250_10           : 7                                   \n",
       " 603_fri_c0_250_50           : 7                                   \n",
       " 604_fri_c4_500_10           : 7                                   \n",
       " 605_fri_c2_250_25           : 7                                   \n",
       " 606_fri_c2_1000_10          : 7                                   \n",
       " 607_fri_c4_1000_50          : 7                                   \n",
       " 608_fri_c3_1000_10          : 7                                   \n",
       " 609_fri_c0_1000_5           : 7                                   \n",
       " 611_fri_c3_100_5            : 7                                   \n",
       " 612_fri_c1_1000_5           : 7                                   \n",
       " 613_fri_c3_250_5            : 7                                   \n",
       " 615_fri_c4_250_10           : 7                                   \n",
       " 616_fri_c4_500_50           : 7                                   \n",
       " 617_fri_c3_500_5            : 7                                   \n",
       " 618_fri_c3_1000_50          : 7                                   \n",
       " 621_fri_c0_100_10           : 7                                   \n",
       " 622_fri_c2_1000_50          : 7                                   \n",
       " 623_fri_c4_1000_10          : 7                                   \n",
       " 624_fri_c0_100_5            : 7                                   \n",
       " 626_fri_c2_500_50           : 7                                   \n",
       " 627_fri_c2_500_10           : 7                                   \n",
       " 628_fri_c3_1000_5           : 7                                   \n",
       " 631_fri_c1_500_5            : 7                                   \n",
       " 633_fri_c0_500_25           : 7                                   \n",
       " 634_fri_c2_100_10           : 7                                   \n",
       " 635_fri_c0_250_10           : 7                                   \n",
       " 637_fri_c1_500_50           : 7                                   \n",
       " 641_fri_c1_500_10           : 7                                   \n",
       " 643_fri_c2_500_25           : 7                                   \n",
       " 644_fri_c4_250_25           : 7                                   \n",
       " 645_fri_c3_500_50           : 7                                   \n",
       " 646_fri_c3_500_10           : 7                                   \n",
       " 647_fri_c1_250_10           : 7                                   \n",
       " 648_fri_c1_250_50           : 7                                   \n",
       " 649_fri_c0_500_5            : 7                                   \n",
       " 650_fri_c0_500_50           : 7                                   \n",
       " 651_fri_c0_100_25           : 7                                   \n",
       " 653_fri_c0_250_25           : 7                                   \n",
       " 654_fri_c0_500_10           : 7                                   \n",
       " 656_fri_c1_100_5            : 7                                   \n",
       " 657_fri_c2_250_10           : 7                                   \n",
       " (Other)                     :77                                   "
      ]
     },
     "metadata": {},
     "output_type": "display_data"
    }
   ],
   "source": [
    "df <- read.csv(\"size_ranks.csv\",header=TRUE,sep=',')\n",
    "df <- subset(df,method!='KernelRidge')\n",
    "df$method = factor(df$method)\n",
    "# df <- subset(df,dataset!='505_tecator')\n",
    "summary(df,maxsum=90)"
   ]
  },
  {
   "cell_type": "code",
   "execution_count": 4,
   "metadata": {},
   "outputs": [
    {
     "name": "stdout",
     "output_type": "stream",
     "text": [
      "% latex table generated in R 3.5.1 by xtable 1.8-3 package\n",
      "% Fri Feb 22 00:42:09 2019\n",
      "\\begin{table}[ht]\n",
      "\\centering\n",
      "\\begin{tabular}{rllllll}\n",
      "  \\hline\n",
      " & ElasticNet & Feat & FeatCN & FeatCorr & MLP & RF \\\\ \n",
      "  \\hline\n",
      "Feat & 8.25e-12* &  &  &  &  &  \\\\ \n",
      "  FeatCN & 2.47e-16* & 2.12e-08* &  &  &  &  \\\\ \n",
      "  FeatCorr & 1.37e-12* & 1.00e+00 & 1.58e-07* &  &  &  \\\\ \n",
      "  MLP & 6.24e-18* & 4.26e-17* & 3.09e-17* & 3.98e-17* &  &  \\\\ \n",
      "  RF & 9.28e-20* & 2.05e-17* & 5.61e-18* & 2.37e-17* & 3.54e-17* &  \\\\ \n",
      "  XGB & 9.14e-18* & 4.05e-17* & 2.46e-17* & 3.71e-17* & 1.00e+00 & 3.94e-18* \\\\ \n",
      "   \\hline\n",
      "\\end{tabular}\n",
      "\\caption{Bonferroni-adjusted $p$-values using a Wilcoxon signed rank test of sizesfor the methods across all benchmarks. All results are significant. *: $p$<0.05.} \n",
      "\\end{table}\n"
     ]
    },
    {
     "data": {
      "text/html": [
       "<table>\n",
       "<thead><tr><th></th><th scope=col>ElasticNet</th><th scope=col>Feat</th><th scope=col>FeatCN</th><th scope=col>FeatCorr</th><th scope=col>MLP</th><th scope=col>RF</th></tr></thead>\n",
       "<tbody>\n",
       "\t<tr><th scope=row>Feat</th><td>8.25e-12*</td><td>NA       </td><td>NA       </td><td>NA       </td><td>NA       </td><td>NA       </td></tr>\n",
       "\t<tr><th scope=row>FeatCN</th><td>2.47e-16*</td><td>2.12e-08*</td><td>NA       </td><td>NA       </td><td>NA       </td><td>NA       </td></tr>\n",
       "\t<tr><th scope=row>FeatCorr</th><td>1.37e-12*</td><td>1.00e+00 </td><td>1.58e-07*</td><td>NA       </td><td>NA       </td><td>NA       </td></tr>\n",
       "\t<tr><th scope=row>MLP</th><td>6.24e-18*</td><td>4.26e-17*</td><td>3.09e-17*</td><td>3.98e-17*</td><td>NA       </td><td>NA       </td></tr>\n",
       "\t<tr><th scope=row>RF</th><td>9.28e-20*</td><td>2.05e-17*</td><td>5.61e-18*</td><td>2.37e-17*</td><td>3.54e-17*</td><td>NA       </td></tr>\n",
       "\t<tr><th scope=row>XGB</th><td>9.14e-18*</td><td>4.05e-17*</td><td>2.46e-17*</td><td>3.71e-17*</td><td>1.00e+00 </td><td>3.94e-18*</td></tr>\n",
       "</tbody>\n",
       "</table>\n"
      ],
      "text/latex": [
       "\\begin{tabular}{r|llllll}\n",
       "  & ElasticNet & Feat & FeatCN & FeatCorr & MLP & RF\\\\\n",
       "\\hline\n",
       "\tFeat & 8.25e-12* & NA        & NA        & NA        & NA        & NA       \\\\\n",
       "\tFeatCN & 2.47e-16* & 2.12e-08* & NA        & NA        & NA        & NA       \\\\\n",
       "\tFeatCorr & 1.37e-12* & 1.00e+00  & 1.58e-07* & NA        & NA        & NA       \\\\\n",
       "\tMLP & 6.24e-18* & 4.26e-17* & 3.09e-17* & 3.98e-17* & NA        & NA       \\\\\n",
       "\tRF & 9.28e-20* & 2.05e-17* & 5.61e-18* & 2.37e-17* & 3.54e-17* & NA       \\\\\n",
       "\tXGB & 9.14e-18* & 4.05e-17* & 2.46e-17* & 3.71e-17* & 1.00e+00  & 3.94e-18*\\\\\n",
       "\\end{tabular}\n"
      ],
      "text/markdown": [
       "\n",
       "| <!--/--> | ElasticNet | Feat | FeatCN | FeatCorr | MLP | RF | \n",
       "|---|---|---|---|---|---|\n",
       "| Feat | 8.25e-12* | NA        | NA        | NA        | NA        | NA        | \n",
       "| FeatCN | 2.47e-16* | 2.12e-08* | NA        | NA        | NA        | NA        | \n",
       "| FeatCorr | 1.37e-12* | 1.00e+00  | 1.58e-07* | NA        | NA        | NA        | \n",
       "| MLP | 6.24e-18* | 4.26e-17* | 3.09e-17* | 3.98e-17* | NA        | NA        | \n",
       "| RF | 9.28e-20* | 2.05e-17* | 5.61e-18* | 2.37e-17* | 3.54e-17* | NA        | \n",
       "| XGB | 9.14e-18* | 4.05e-17* | 2.46e-17* | 3.71e-17* | 1.00e+00  | 3.94e-18* | \n",
       "\n",
       "\n"
      ],
      "text/plain": [
       "         ElasticNet Feat      FeatCN    FeatCorr  MLP       RF       \n",
       "Feat     8.25e-12*  NA        NA        NA        NA        NA       \n",
       "FeatCN   2.47e-16*  2.12e-08* NA        NA        NA        NA       \n",
       "FeatCorr 1.37e-12*  1.00e+00  1.58e-07* NA        NA        NA       \n",
       "MLP      6.24e-18*  4.26e-17* 3.09e-17* 3.98e-17* NA        NA       \n",
       "RF       9.28e-20*  2.05e-17* 5.61e-18* 2.37e-17* 3.54e-17* NA       \n",
       "XGB      9.14e-18*  4.05e-17* 2.46e-17* 3.71e-17* 1.00e+00  3.94e-18*"
      ]
     },
     "metadata": {},
     "output_type": "display_data"
    }
   ],
   "source": [
    "\n",
    "res <- pairwise.wilcox.test(df$rank_size, df$method, p.adjust.method = 'bonferroni',\n",
    "                      paired = T)\n",
    "cap = paste0(\"Bonferroni-adjusted $p$-values using a Wilcoxon signed rank test of sizes\",\n",
    "      \"for the methods across all benchmarks. All results are significant. *: $p$<0.05.\")\n",
    "library(xtable)\n",
    "res$p.value.formatted = format(res$p.value,scientific=T,digits=3)\n",
    "res$p.value.formatted = ifelse(res$p.value < 0.05, paste0(res$p.value.formatted, \"*\"), \n",
    "                                  res$p.value.formatted)\n",
    "# res$p.value.formatted = format(res$p.value,)\n",
    "# res$p.value.formatted = ifelse(res$p.value < 0.05, paste0(\"\\\\textbf{\", res$p.value.formatted, \"}\"), res$p.value)\n",
    "ltx <- xtable(res$p.value.formatted, caption=cap, display=c('s',rep('s',6)),\n",
    "              caption.placement = \"top\")\n",
    "\n",
    "\n",
    "print(ltx)\n",
    "ltx"
   ]
  },
  {
   "cell_type": "code",
   "execution_count": 16,
   "metadata": {},
   "outputs": [],
   "source": [
    "?xtable "
   ]
  }
 ],
 "metadata": {
  "kernelspec": {
   "display_name": "R",
   "language": "R",
   "name": "ir"
  },
  "language_info": {
   "codemirror_mode": "r",
   "file_extension": ".r",
   "mimetype": "text/x-r-source",
   "name": "R",
   "pygments_lexer": "r",
   "version": "3.5.1"
  }
 },
 "nbformat": 4,
 "nbformat_minor": 2
}
